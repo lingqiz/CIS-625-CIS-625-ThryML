{
 "cells": [
  {
   "cell_type": "markdown",
   "metadata": {
    "id": "oiPc3V8t-3gi"
   },
   "source": [
    "## Setup the MNIST dataset"
   ]
  },
  {
   "cell_type": "code",
   "execution_count": 13,
   "metadata": {
    "executionInfo": {
     "elapsed": 497,
     "status": "ok",
     "timestamp": 1609895422245,
     "user": {
      "displayName": "Lingqi Zhang",
      "photoUrl": "",
      "userId": "08140309027317731859"
     },
     "user_tz": 300
    },
    "id": "JW8dF7MA9VB3"
   },
   "outputs": [],
   "source": [
    "# Imports\n",
    "import functools as ft\n",
    "import numpy as np\n",
    "import matplotlib\n",
    "import matplotlib.pyplot as plt\n",
    "matplotlib.rcParams['figure.dpi'] = 100\n",
    "\n",
    "import torch\n",
    "from torch import nn, optim\n",
    "\n",
    "import pandas\n",
    "from sklearn import decomposition\n",
    "from sklearn.datasets import fetch_openml"
   ]
  },
  {
   "cell_type": "code",
   "execution_count": 2,
   "metadata": {
    "executionInfo": {
     "elapsed": 22774,
     "status": "ok",
     "timestamp": 1609907379413,
     "user": {
      "displayName": "Lingqi Zhang",
      "photoUrl": "",
      "userId": "08140309027317731859"
     },
     "user_tz": 300
    },
    "id": "_sLex71R9bN6"
   },
   "outputs": [],
   "source": [
    "# MNIST dataset\n",
    "X, y = fetch_openml('mnist_784', version=1, return_X_y=True, as_frame=False)\n",
    "X = X.T / 255\n",
    "y = np.array([int(label) for label in y])"
   ]
  },
  {
   "cell_type": "code",
   "execution_count": 7,
   "metadata": {
    "executionInfo": {
     "elapsed": 436,
     "status": "ok",
     "timestamp": 1609907512543,
     "user": {
      "displayName": "Lingqi Zhang",
      "photoUrl": "",
      "userId": "08140309027317731859"
     },
     "user_tz": 300
    },
    "id": "rAaScliYCixX"
   },
   "outputs": [
    {
     "name": "stdout",
     "output_type": "stream",
     "text": [
      "(5, 70000)\n"
     ]
    }
   ],
   "source": [
    "# Run PCA\n",
    "row_mean = X.mean(axis=1)\n",
    "X_zero = X - row_mean.reshape([-1, 1])\n",
    "\n",
    "pca = decomposition.PCA()\n",
    "pca.fit(X_zero.T)\n",
    "components = pca.components_\n",
    "\n",
    "# PCA dimensionality reduction\n",
    "n_dim = 5\n",
    "comp = components[:n_dim, :]\n",
    "proj = comp @ X_zero\n",
    "print(proj.shape)\n",
    "\n",
    "# We will only use 0 and 1 for binary classification\n",
    "input_x = proj[:, np.logical_or(y == 0, y == 1)]\n",
    "label_y = y[np.logical_or(y == 0, y == 1)]\n",
    "\n",
    "x = torch.from_numpy(input_x.T.astype(np.float32))"
   ]
  },
  {
   "cell_type": "code",
   "execution_count": 8,
   "metadata": {},
   "outputs": [],
   "source": [
    "def input_dataset(n_dim):\n",
    "    comp = components[:n_dim, :]\n",
    "    proj = comp @ X_zero\n",
    "    input_x = proj[:, np.logical_or(y == 0, y == 1)]\n",
    "    label_y = y[np.logical_or(y == 0, y == 1)]\n",
    "    \n",
    "    return (input_x, label_y)"
   ]
  },
  {
   "cell_type": "markdown",
   "metadata": {
    "id": "M2Ssd6Va_0sr"
   },
   "source": [
    "## Measure different \"labeling\""
   ]
  },
  {
   "cell_type": "code",
   "execution_count": 10,
   "metadata": {
    "executionInfo": {
     "elapsed": 743,
     "status": "ok",
     "timestamp": 1609910144580,
     "user": {
      "displayName": "Lingqi Zhang",
      "photoUrl": "",
      "userId": "08140309027317731859"
     },
     "user_tz": 300
    },
    "id": "P3B_H_Jo_5qn"
   },
   "outputs": [],
   "source": [
    "n_mid = 20\n",
    "model = nn.Sequential(\n",
    "    nn.Linear(n_dim, n_mid),\n",
    "    nn.ReLU(),\n",
    "    nn.Linear(n_mid, 1),\n",
    "    nn.Sigmoid())"
   ]
  },
  {
   "cell_type": "code",
   "execution_count": 6,
   "metadata": {},
   "outputs": [],
   "source": [
    "n_mid = 10\n",
    "model = nn.Sequential(\n",
    "    nn.Linear(n_dim, n_mid),\n",
    "    nn.ReLU(),\n",
    "    nn.Linear(n_mid, n_mid),\n",
    "    nn.ReLU(),\n",
    "    nn.Linear(n_mid, n_mid),\n",
    "    nn.ReLU(),\n",
    "    nn.Linear(n_mid, 1),\n",
    "    nn.Sigmoid())"
   ]
  },
  {
   "cell_type": "code",
   "execution_count": 290,
   "metadata": {
    "executionInfo": {
     "elapsed": 761,
     "status": "ok",
     "timestamp": 1609910019091,
     "user": {
      "displayName": "Lingqi Zhang",
      "photoUrl": "",
      "userId": "08140309027317731859"
     },
     "user_tz": 300
    },
    "id": "sgR6STNALxvC"
   },
   "outputs": [],
   "source": [
    "# init all weights to 0\n",
    "def weight_zero(m):\n",
    "    classname = m.__class__.__name__\n",
    "    # for every Linear layer in a model..\n",
    "    if classname.find('Linear') != -1:\n",
    "        m.weight.data.fill_(0)\n",
    "        m.bias.data.fill_(0)\n",
    "\n",
    "# apply uniform init to weights\n",
    "def weight_uniform(m):\n",
    "    classname = m.__class__.__name__\n",
    "    # for every Linear layer in a model..\n",
    "    if classname.find('Linear') != -1:\n",
    "        m.weight.data.uniform_(-1e2, 1e2)\n",
    "        m.bias.data.fill_(0)\n",
    "\n",
    "# apply weights sampled from a Gaussian distribution\n",
    "def weight_gaussian(m):\n",
    "    classname = m.__class__.__name__\n",
    "    # for every Linear layer in a model..\n",
    "    if classname.find('Linear') != -1:\n",
    "        m.weight.data.normal_(0.0, 1.0)\n",
    "        m.bias.data.fill_(0)\n",
    "  "
   ]
  },
  {
   "cell_type": "code",
   "execution_count": 8,
   "metadata": {
    "colab": {
     "base_uri": "https://localhost:8080/"
    },
    "executionInfo": {
     "elapsed": 437,
     "status": "ok",
     "timestamp": 1609907522532,
     "user": {
      "displayName": "Lingqi Zhang",
      "photoUrl": "",
      "userId": "08140309027317731859"
     },
     "user_tz": 300
    },
    "id": "kN40aACDBofR",
    "outputId": "2467b8fb-ae57-4e7f-bf74-03b94ac3151b"
   },
   "outputs": [
    {
     "data": {
      "text/plain": [
       "array([[ True],\n",
       "       [False],\n",
       "       [ True],\n",
       "       ...,\n",
       "       [ True],\n",
       "       [ True],\n",
       "       [False]])"
      ]
     },
     "execution_count": 8,
     "metadata": {},
     "output_type": "execute_result"
    }
   ],
   "source": [
    "# Simple testing \n",
    "model.apply(weight_uniform)\n",
    "with torch.no_grad():\n",
    "    output = (model(x) < 0.5).numpy()\n",
    "\n",
    "output"
   ]
  },
  {
   "cell_type": "code",
   "execution_count": 16,
   "metadata": {
    "colab": {
     "base_uri": "https://localhost:8080/"
    },
    "executionInfo": {
     "elapsed": 869,
     "status": "ok",
     "timestamp": 1609910021660,
     "user": {
      "displayName": "Lingqi Zhang",
      "photoUrl": "",
      "userId": "08140309027317731859"
     },
     "user_tz": 300
    },
    "id": "_gvaVjkuPAgx",
    "outputId": "49e5852f-a20f-4df2-adb3-edb0ad411dae"
   },
   "outputs": [
    {
     "name": "stdout",
     "output_type": "stream",
     "text": [
      "[0 1 1 0 0 1 0 1 1 1]\n"
     ]
    }
   ],
   "source": [
    "# Subsample n input\n",
    "n_input = 10\n",
    "index = np.random.randint(input_x.shape[1], size=n_input)\n",
    "x_sub = input_x[:, index]\n",
    "x_sub = torch.from_numpy(x_sub.T.astype(np.float32))\n",
    "print(label_y[index]) "
   ]
  },
  {
   "cell_type": "code",
   "execution_count": 17,
   "metadata": {
    "colab": {
     "base_uri": "https://localhost:8080/"
    },
    "executionInfo": {
     "elapsed": 3389,
     "status": "ok",
     "timestamp": 1609910149531,
     "user": {
      "displayName": "Lingqi Zhang",
      "photoUrl": "",
      "userId": "08140309027317731859"
     },
     "user_tz": 300
    },
    "id": "ON-_Sh7NQcC2",
    "outputId": "1c09d201-2c98-4382-e0f6-b373413334bc"
   },
   "outputs": [
    {
     "data": {
      "text/plain": [
       "422.0"
      ]
     },
     "execution_count": 17,
     "metadata": {},
     "output_type": "execute_result"
    }
   ],
   "source": [
    "n_run = int(1e4)\n",
    "result = np.zeros(2 ** n_input)\n",
    "for idx in range(n_run):\n",
    "    model.apply(weight_uniform)\n",
    "    with torch.no_grad():\n",
    "        output = (model(x_sub) < 0.5).numpy().astype(int).reshape([-1])\n",
    "        encode = ft.reduce(lambda a,b:str(a)+str(b), output)\n",
    "        index  = int(encode, 2)\n",
    "\n",
    "        if result[index] == 0:\n",
    "            result[index] = 1\n",
    "\n",
    "sum(result)"
   ]
  },
  {
   "cell_type": "code",
   "execution_count": 4,
   "metadata": {},
   "outputs": [],
   "source": [
    "# Define a helper function for the counting routine\n",
    "def vc_dimension(model, weight_init, input_x, n_input, n_run=10):\n",
    "    label_count = 0    \n",
    "    for run in range(n_run):\n",
    "        # random sample some input\n",
    "        index = np.random.randint(input_x.shape[1], size=n_input)    \n",
    "        x_sub = torch.from_numpy(input_x[:, index].T.astype(np.float32))\n",
    "        \n",
    "        # sample weights and count all possible labeling\n",
    "        result = np.zeros(2 ** n_input)\n",
    "        n_sample = int((2 ** n_input) * 25)\n",
    "        for sample in range(n_sample):\n",
    "            model.apply(weight_init)\n",
    "            with torch.no_grad():\n",
    "                output = (model(x_sub) < 0.5).numpy().astype(int).reshape([-1])                \n",
    "                encode = ft.reduce(lambda a, b: str(a) + str(b), output)                \n",
    "                index  = int(encode, 2)\n",
    "                \n",
    "                if result[index] == 0:\n",
    "                    result[index] = 1\n",
    "                    \n",
    "        label_count += sum(result)\n",
    "        \n",
    "    return label_count / n_run"
   ]
  },
  {
   "cell_type": "code",
   "execution_count": 95,
   "metadata": {},
   "outputs": [
    {
     "data": {
      "text/plain": [
       "252.4"
      ]
     },
     "execution_count": 95,
     "metadata": {},
     "output_type": "execute_result"
    }
   ],
   "source": [
    "vc_dimension(model, weight_uniform, input_x, n_input=8)"
   ]
  },
  {
   "cell_type": "markdown",
   "metadata": {},
   "source": [
    "## VC Dimension Curve"
   ]
  },
  {
   "cell_type": "code",
   "execution_count": 106,
   "metadata": {},
   "outputs": [],
   "source": [
    "# Input dimension\n",
    "n_dim = 200\n",
    "(input_x, label_y) = input_dataset(n_dim=n_dim)"
   ]
  },
  {
   "cell_type": "code",
   "execution_count": 107,
   "metadata": {},
   "outputs": [],
   "source": [
    "# Define some model\n",
    "n_mid = 10\n",
    "model = nn.Sequential(\n",
    "    nn.Linear(n_dim, n_mid),\n",
    "    nn.ReLU(),\n",
    "    nn.Linear(n_mid, 1),\n",
    "    nn.Sigmoid())"
   ]
  },
  {
   "cell_type": "code",
   "execution_count": 108,
   "metadata": {},
   "outputs": [
    {
     "data": {
      "text/plain": [
       "3717.5"
      ]
     },
     "execution_count": 108,
     "metadata": {},
     "output_type": "execute_result"
    }
   ],
   "source": [
    "vc_dimension(model, weight_uniform, input_x, n_input=12)"
   ]
  },
  {
   "cell_type": "code",
   "execution_count": 117,
   "metadata": {},
   "outputs": [],
   "source": [
    "# Compute VC - Data Dim\n",
    "def compute_curve(input_x, model, weight_init):\n",
    "    n_label = []\n",
    "    for n_input in range(2, 13):\n",
    "        count = vc_dimension(model, weight_init, input_x, n_input=n_input)\n",
    "        n_label.append(count)\n",
    "        \n",
    "    return n_label"
   ]
  },
  {
   "cell_type": "code",
   "execution_count": 136,
   "metadata": {},
   "outputs": [
    {
     "name": "stdout",
     "output_type": "stream",
     "text": [
      "[3.8, 6.7, 11.1, 18.6, 29.7, 42.5, 59.1, 93.9, 132.7, 195.7, 274.9]\n"
     ]
    }
   ],
   "source": [
    "# Compute for a simple model\n",
    "n_dim = 2\n",
    "(input_x, label_y) = input_dataset(n_dim=n_dim)\n",
    "\n",
    "n_mid = 10\n",
    "model = nn.Sequential(\n",
    "    nn.Linear(n_dim, n_mid),\n",
    "    nn.ReLU(),\n",
    "    nn.Linear(n_mid, 1),\n",
    "    nn.Sigmoid())\n",
    "\n",
    "count_tiny = compute_curve(input_x, model, weight_uniform)\n",
    "print(count_tiny)"
   ]
  },
  {
   "cell_type": "code",
   "execution_count": 118,
   "metadata": {},
   "outputs": [
    {
     "name": "stdout",
     "output_type": "stream",
     "text": [
      "[4.0, 7.9, 14.2, 27.9, 51.4, 84.8, 165.2, 250.5, 443.8, 764.8, 1377.8]\n"
     ]
    }
   ],
   "source": [
    "# Compute for a simple model\n",
    "n_dim = 4\n",
    "(input_x, label_y) = input_dataset(n_dim=n_dim)\n",
    "\n",
    "n_mid = 10\n",
    "model = nn.Sequential(\n",
    "    nn.Linear(n_dim, n_mid),\n",
    "    nn.ReLU(),\n",
    "    nn.Linear(n_mid, 1),\n",
    "    nn.Sigmoid())\n",
    "\n",
    "count_simple = compute_curve(input_x, model, weight_uniform)\n",
    "print(count_simple)"
   ]
  },
  {
   "cell_type": "code",
   "execution_count": 122,
   "metadata": {},
   "outputs": [
    {
     "name": "stdout",
     "output_type": "stream",
     "text": [
      "[4.0, 7.9, 15.8, 31.2, 62.0, 119.9, 233.3, 453.2, 851.6, 1571.7, 2809.2]\n"
     ]
    }
   ],
   "source": [
    "# Increase input dimension\n",
    "n_dim = 16\n",
    "(input_x, label_y) = input_dataset(n_dim=n_dim)\n",
    "\n",
    "n_mid = 10\n",
    "model = nn.Sequential(\n",
    "    nn.Linear(n_dim, n_mid),\n",
    "    nn.ReLU(),\n",
    "    nn.Linear(n_mid, 1),\n",
    "    nn.Sigmoid())\n",
    "\n",
    "count_mid = compute_curve(input_x, model, weight_uniform)\n",
    "print(count_mid)"
   ]
  },
  {
   "cell_type": "code",
   "execution_count": 124,
   "metadata": {},
   "outputs": [
    {
     "name": "stdout",
     "output_type": "stream",
     "text": [
      "[4.0, 8.0, 16.0, 32.0, 63.8, 126.6, 254.0, 496.0, 988.7, 1942.2, 3794.0]\n"
     ]
    }
   ],
   "source": [
    "# Increase input dimension\n",
    "n_dim = 250\n",
    "(input_x, label_y) = input_dataset(n_dim=n_dim)\n",
    "\n",
    "n_mid = 10\n",
    "model = nn.Sequential(\n",
    "    nn.Linear(n_dim, n_mid),\n",
    "    nn.ReLU(),\n",
    "    nn.Linear(n_mid, 1),\n",
    "    nn.Sigmoid())\n",
    "\n",
    "count_large = compute_curve(input_x, model, weight_uniform)\n",
    "print(count_large)"
   ]
  },
  {
   "cell_type": "markdown",
   "metadata": {},
   "source": [
    "### Effect of Input Dimension"
   ]
  },
  {
   "cell_type": "code",
   "execution_count": 235,
   "metadata": {},
   "outputs": [
    {
     "data": {
      "image/png": "[encoded data removed]",
      "text/plain": [
       "<Figure size 600x400 with 1 Axes>"
      ]
     },
     "metadata": {
      "needs_background": "light"
     },
     "output_type": "display_data"
    }
   ],
   "source": [
    "def log2_plot(data, label, x_axis=range(2, 13)):\n",
    "    plt.plot(x_axis, data, '.-', label=label)\n",
    "\n",
    "# Figure format\n",
    "ax = plt.subplot(111)\n",
    "\n",
    "# Hide the right and top spines\n",
    "ax.spines['right'].set_visible(False)\n",
    "ax.spines['top'].set_visible(False)\n",
    "\n",
    "# Only show ticks on the left and bottom spines\n",
    "ax.yaxis.set_ticks_position('left')\n",
    "ax.xaxis.set_ticks_position('bottom')\n",
    "\n",
    "x_axis = range(2, 13)\n",
    "    \n",
    "log2_plot(count_tiny, 'dim=2')\n",
    "log2_plot(count_simple, 'dim=4')\n",
    "log2_plot(count_mid, 'dim=16')\n",
    "log2_plot(count_large, 'dim=250')\n",
    "\n",
    "plt.yscale('log')\n",
    "plt.minorticks_off()\n",
    "plt.xlabel('Input Set Size')\n",
    "plt.ylabel('Number of Labeling')\n",
    "\n",
    "ax.set_yticks([2 ** n for n in x_axis])\n",
    "ax.set_yticklabels([2 ** n for n in x_axis])\n",
    "ax.legend()\n",
    "plt.show()"
   ]
  },
  {
   "cell_type": "markdown",
   "metadata": {},
   "source": [
    "### Effect of network complexity"
   ]
  },
  {
   "cell_type": "code",
   "execution_count": 199,
   "metadata": {},
   "outputs": [],
   "source": [
    "# Input dimension\n",
    "n_dim = 4\n",
    "(input_x, label_y) = input_dataset(n_dim=n_dim)"
   ]
  },
  {
   "cell_type": "code",
   "execution_count": 200,
   "metadata": {},
   "outputs": [],
   "source": [
    "# Simple linear regression\n",
    "model = nn.Sequential(\n",
    "    nn.Linear(n_dim, 1),\n",
    "    nn.Sigmoid())"
   ]
  },
  {
   "cell_type": "code",
   "execution_count": 201,
   "metadata": {},
   "outputs": [
    {
     "name": "stdout",
     "output_type": "stream",
     "text": [
      "[4.0, 7.7, 13.3, 23.3, 36.2, 55.0, 88.9, 125.7, 182.8, 261.1, 341.1]\n"
     ]
    }
   ],
   "source": [
    "count_linear = compute_curve(input_x, model, weight_uniform)\n",
    "print(count_linear)"
   ]
  },
  {
   "cell_type": "code",
   "execution_count": 202,
   "metadata": {},
   "outputs": [
    {
     "name": "stdout",
     "output_type": "stream",
     "text": [
      "[4.0, 7.6, 14.2, 26.9, 51.7, 88.8, 157.4, 283.7, 503.5, 807.3, 1384.4]\n"
     ]
    }
   ],
   "source": [
    "# Two layer\n",
    "model = nn.Sequential(\n",
    "    nn.Linear(n_dim, 10),\n",
    "    nn.ReLU(),\n",
    "    nn.Linear(10, 1),\n",
    "    nn.Sigmoid())\n",
    "\n",
    "count_twolr = compute_curve(input_x, model, weight_uniform)\n",
    "print(count_twolr)"
   ]
  },
  {
   "cell_type": "code",
   "execution_count": 203,
   "metadata": {},
   "outputs": [
    {
     "name": "stdout",
     "output_type": "stream",
     "text": [
      "[4.0, 8.0, 15.4, 28.3, 50.1, 91.0, 176.6, 290.7, 572.7, 909.7, 1499.5]\n"
     ]
    }
   ],
   "source": [
    "# Three layer\n",
    "model = nn.Sequential(\n",
    "    nn.Linear(n_dim, 100),\n",
    "    nn.ReLU(),\n",
    "    nn.Linear(100, 50),\n",
    "    nn.ReLU(),\n",
    "    nn.Linear(50, 1),\n",
    "    nn.Sigmoid())\n",
    "\n",
    "count_thrlr = compute_curve(input_x, model, weight_uniform)\n",
    "print(count_thrlr)"
   ]
  },
  {
   "cell_type": "code",
   "execution_count": 208,
   "metadata": {},
   "outputs": [
    {
     "name": "stdout",
     "output_type": "stream",
     "text": [
      "[3.9, 7.9, 15.3, 28.5, 52.8, 99.5, 182.0, 317.2, 549.0, 1012.5, 1848.7]\n"
     ]
    }
   ],
   "source": [
    "# Many layer\n",
    "model = nn.Sequential(\n",
    "    nn.Linear(n_dim, 25),\n",
    "    nn.ReLU(),\n",
    "    nn.Linear(25, 25),\n",
    "    nn.ReLU(),\n",
    "    nn.Linear(25, 25),\n",
    "    nn.ReLU(),\n",
    "    nn.Linear(25, 25),\n",
    "    nn.ReLU(),\n",
    "    nn.Linear(25, 25),\n",
    "    nn.ReLU(),\n",
    "    nn.Linear(25, 1),\n",
    "    nn.Sigmoid())\n",
    "\n",
    "count_many = compute_curve(input_x, model, weight_uniform)\n",
    "print(count_many)"
   ]
  },
  {
   "cell_type": "code",
   "execution_count": 209,
   "metadata": {},
   "outputs": [
    {
     "name": "stdout",
     "output_type": "stream",
     "text": [
      "[3.9, 8.0, 14.9, 28.1, 52.1, 97.4, 188.7, 337.5, 668.2, 1173.4, 2199.0]\n"
     ]
    }
   ],
   "source": [
    "# Deep network\n",
    "modules = []\n",
    "\n",
    "modules.append(nn.Linear(n_dim, 25))\n",
    "modules.append(nn.ReLU())\n",
    "for n_iter in range(10):\n",
    "    modules.append(nn.Linear(25, 25))\n",
    "    modules.append(nn.ReLU())\n",
    "\n",
    "modules.append(nn.Linear(25, 1))\n",
    "modules.append(nn.Sigmoid())\n",
    "\n",
    "model = nn.Sequential(*modules)\n",
    "\n",
    "count_deep = compute_curve(input_x, model, weight_uniform)\n",
    "print(count_deep)"
   ]
  },
  {
   "cell_type": "code",
   "execution_count": 308,
   "metadata": {},
   "outputs": [
    {
     "data": {
      "image/png": "[encoded data removed]",
      "text/plain": [
       "<Figure size 600x400 with 1 Axes>"
      ]
     },
     "metadata": {
      "needs_background": "light"
     },
     "output_type": "display_data"
    }
   ],
   "source": [
    "# Figure format\n",
    "ax = plt.subplot(111)\n",
    "\n",
    "# Hide the right and top spines\n",
    "ax.spines['right'].set_visible(False)\n",
    "ax.spines['top'].set_visible(False)\n",
    "\n",
    "# Only show ticks on the left and bottom spines\n",
    "ax.yaxis.set_ticks_position('left')\n",
    "ax.xaxis.set_ticks_position('bottom')\n",
    "\n",
    "x_axis = range(2, 13)\n",
    "    \n",
    "log2_plot(count_linear, 'linear')\n",
    "log2_plot(count_twolr, 'two-layer')\n",
    "log2_plot(count_many, 'five-layer')\n",
    "log2_plot(count_deep, 'deep')\n",
    "\n",
    "plt.xlabel('Input Set Size')\n",
    "plt.ylabel('Number of Labeling')\n",
    "\n",
    "# plt.yscale('log')\n",
    "# plt.minorticks_off()\n",
    "# ax.set_yticks([2 ** n for n in x_axis])\n",
    "# ax.set_yticklabels([2 ** n for n in x_axis])\n",
    "\n",
    "ax.legend()\n",
    "plt.show()"
   ]
  },
  {
   "cell_type": "markdown",
   "metadata": {},
   "source": [
    "### Network Depth vs. Width"
   ]
  },
  {
   "cell_type": "code",
   "execution_count": 250,
   "metadata": {},
   "outputs": [],
   "source": [
    "# Input dimension\n",
    "n_dim = 4\n",
    "(input_x, label_y) = input_dataset(n_dim=n_dim)"
   ]
  },
  {
   "cell_type": "code",
   "execution_count": 257,
   "metadata": {},
   "outputs": [
    {
     "name": "stdout",
     "output_type": "stream",
     "text": [
      "[1365.7, 1265.5, 1362.8, 1356.4, 1435.8, 1327.6, 1314.0, 1428.3, 1256.8, 1318.7]\n"
     ]
    }
   ],
   "source": [
    "n_count = [] \n",
    "for n_mid in range(25, 256, 25):\n",
    "    \n",
    "    model = nn.Sequential(\n",
    "        nn.Linear(n_dim, n_mid),\n",
    "        nn.ReLU(),\n",
    "        nn.Linear(n_mid, 1),\n",
    "        nn.Sigmoid())\n",
    "    \n",
    "    n_count.append(vc_dimension(model, weight_uniform, input_x, n_input=12))\n",
    "    \n",
    "print(n_count)"
   ]
  },
  {
   "cell_type": "code",
   "execution_count": 268,
   "metadata": {},
   "outputs": [
    {
     "name": "stdout",
     "output_type": "stream",
     "text": [
      "[1342.8, 1614.8, 1626.3, 1892.4, 1900.7, 2027.0, 1927.6, 2034.8, 2095.6, 2040.7]\n"
     ]
    }
   ],
   "source": [
    "n_seq = []\n",
    "for n_layer in range(10):\n",
    "    modules = []\n",
    "    \n",
    "    modules.append(nn.Linear(n_dim, 25))\n",
    "    modules.append(nn.ReLU())\n",
    "    for n_iter in range(n_layer):\n",
    "        modules.append(nn.Linear(25, 25))\n",
    "        modules.append(nn.ReLU())\n",
    "        \n",
    "    modules.append(nn.Linear(25, 1))\n",
    "    modules.append(nn.Sigmoid())\n",
    "    \n",
    "    model = nn.Sequential(*modules)\n",
    "    n_seq.append(vc_dimension(model, weight_uniform, input_x, n_input=12))\n",
    "    \n",
    "print(n_seq)"
   ]
  },
  {
   "cell_type": "code",
   "execution_count": 271,
   "metadata": {},
   "outputs": [
    {
     "data": {
      "image/png": "[encoded data removed]",
      "text/plain": [
       "<Figure size 600x400 with 1 Axes>"
      ]
     },
     "metadata": {
      "needs_background": "light"
     },
     "output_type": "display_data"
    }
   ],
   "source": [
    "# Figure format\n",
    "ax = plt.subplot(111)\n",
    "\n",
    "# Hide the right and top spines\n",
    "ax.spines['right'].set_visible(False)\n",
    "ax.spines['top'].set_visible(False)\n",
    "\n",
    "# Only show ticks on the left and bottom spines\n",
    "ax.yaxis.set_ticks_position('left')\n",
    "ax.xaxis.set_ticks_position('bottom')\n",
    "\n",
    "plt.plot(range(25, 256, 25), n_count, '.-', label='width')\n",
    "plt.plot(range(25, 256, 25), n_seq, '.-', label='depth')\n",
    "\n",
    "plt.xlabel('Number of Neurons')\n",
    "plt.ylabel('Number of Labeling')\n",
    "\n",
    "ax.legend()\n",
    "plt.show()"
   ]
  },
  {
   "cell_type": "markdown",
   "metadata": {},
   "source": [
    "## Regularization"
   ]
  },
  {
   "cell_type": "markdown",
   "metadata": {},
   "source": [
    "### Dropout"
   ]
  },
  {
   "cell_type": "code",
   "execution_count": 291,
   "metadata": {},
   "outputs": [],
   "source": [
    "# Input dimension\n",
    "n_dim = 4\n",
    "(input_x, label_y) = input_dataset(n_dim=n_dim)"
   ]
  },
  {
   "cell_type": "code",
   "execution_count": 298,
   "metadata": {},
   "outputs": [
    {
     "name": "stdout",
     "output_type": "stream",
     "text": [
      "[4.0, 8.0, 16.0, 32.0, 64.0, 128.0, 256.0, 512.0, 1023.9, 2048.0, 4095.7]\n"
     ]
    }
   ],
   "source": [
    "modules = []\n",
    "\n",
    "modules.append(nn.Linear(n_dim, 25))\n",
    "modules.append(nn.ReLU())\n",
    "for n_iter in range(6):\n",
    "    modules.append(nn.Linear(25, 25))\n",
    "    modules.append(nn.ReLU())\n",
    "    if n_iter % 2 == 0:\n",
    "        modules.append(nn.Dropout(p=0.50))\n",
    "\n",
    "modules.append(nn.Linear(25, 1))\n",
    "modules.append(nn.Sigmoid())\n",
    "\n",
    "model = nn.Sequential(*modules)\n",
    "model.train()\n",
    "\n",
    "count_dropout = compute_curve(input_x, model, weight_uniform)\n",
    "print(count_dropout)"
   ]
  },
  {
   "cell_type": "code",
   "execution_count": 299,
   "metadata": {},
   "outputs": [
    {
     "name": "stdout",
     "output_type": "stream",
     "text": [
      "[4.0, 8.0, 15.0, 28.4, 55.4, 93.1, 191.3, 328.4, 602.0, 1114.0, 2009.7]\n"
     ]
    }
   ],
   "source": [
    "modules = []\n",
    "\n",
    "modules.append(nn.Linear(n_dim, 25))\n",
    "modules.append(nn.ReLU())\n",
    "for n_iter in range(6):\n",
    "    modules.append(nn.Linear(25, 25))\n",
    "    modules.append(nn.ReLU())\n",
    "\n",
    "modules.append(nn.Linear(25, 1))\n",
    "modules.append(nn.Sigmoid())\n",
    "\n",
    "model = nn.Sequential(*modules)\n",
    "\n",
    "count = compute_curve(input_x, model, weight_uniform)\n",
    "print(count)"
   ]
  },
  {
   "cell_type": "code",
   "execution_count": 315,
   "metadata": {},
   "outputs": [
    {
     "data": {
      "image/png": "[encoded data removed]",
      "text/plain": [
       "<Figure size 600x400 with 1 Axes>"
      ]
     },
     "metadata": {
      "needs_background": "light"
     },
     "output_type": "display_data"
    }
   ],
   "source": [
    "# Figure format\n",
    "ax = plt.subplot(111)\n",
    "\n",
    "# Hide the right and top spines\n",
    "ax.spines['right'].set_visible(False)\n",
    "ax.spines['top'].set_visible(False)\n",
    "\n",
    "# Only show ticks on the left and bottom spines\n",
    "ax.yaxis.set_ticks_position('left')\n",
    "ax.xaxis.set_ticks_position('bottom')\n",
    "\n",
    "plt.plot(range(2, 13), count_dropout, '.-', label='dropout')\n",
    "plt.plot(range(2, 13), count, '.-', label='no dropout')\n",
    "\n",
    "plt.xlabel('Input Set Size')\n",
    "plt.ylabel('Number of Labeling')\n",
    "\n",
    "# plt.yscale('log')\n",
    "# plt.minorticks_off()\n",
    "# ax.set_yticks([2 ** n for n in x_axis])\n",
    "# ax.set_yticklabels([2 ** n for n in x_axis])\n",
    "\n",
    "ax.legend()\n",
    "plt.show()"
   ]
  },
  {
   "cell_type": "markdown",
   "metadata": {},
   "source": [
    "### L1 and L2 norm"
   ]
  },
  {
   "cell_type": "code",
   "execution_count": 9,
   "metadata": {},
   "outputs": [],
   "source": [
    "# Input dimension\n",
    "n_dim = 4\n",
    "(input_x, label_y) = input_dataset(n_dim=n_dim)"
   ]
  },
  {
   "cell_type": "code",
   "execution_count": 341,
   "metadata": {},
   "outputs": [],
   "source": [
    "# Different weight init\n",
    "def weight_uniform(m):\n",
    "    classname = m.__class__.__name__\n",
    "    # for every Linear layer in a model..\n",
    "    if classname.find('Linear') != -1:\n",
    "        m.weight.data.uniform_(-1, 1)\n",
    "        m.bias.data.fill_(0)\n",
    "        \n",
    "def weight_gaussian(m):\n",
    "    classname = m.__class__.__name__\n",
    "    # for every Linear layer in a model..\n",
    "    if classname.find('Linear') != -1:\n",
    "        m.weight.data.normal_(0.0, 0.1)\n",
    "        m.bias.data.fill_(0)\n",
    "        \n",
    "def weight_xavier_uniform(m):\n",
    "    classname = m.__class__.__name__\n",
    "    # for every Linear layer in a model..\n",
    "    if classname.find('Linear') != -1:\n",
    "        nn.init.xavier_uniform_(m.weight, gain=nn.init.calculate_gain('relu'))        \n",
    "        m.bias.data.fill_(0)\n",
    "        \n",
    "def weight_xavier_normal(m):\n",
    "    classname = m.__class__.__name__\n",
    "    # for every Linear layer in a model..\n",
    "    if classname.find('Linear') != -1:\n",
    "        nn.init.xavier_normal_(m.weight, gain=nn.init.calculate_gain('relu'))\n",
    "        m.bias.data.fill_(0)"
   ]
  },
  {
   "cell_type": "code",
   "execution_count": 10,
   "metadata": {},
   "outputs": [],
   "source": [
    "def create_network(n_dim, n_mid=25, n_layer=10):\n",
    "    modules = []\n",
    "    \n",
    "    modules.append(nn.Linear(n_dim, n_mid))\n",
    "    modules.append(nn.ReLU())\n",
    "    for n_iter in range(n_layer):\n",
    "        modules.append(nn.Linear(n_mid, n_mid))\n",
    "        modules.append(nn.ReLU())\n",
    "\n",
    "    modules.append(nn.Linear(n_mid, 1))\n",
    "    modules.append(nn.Sigmoid())\n",
    "\n",
    "    return nn.Sequential(*modules)"
   ]
  },
  {
   "cell_type": "code",
   "execution_count": 321,
   "metadata": {},
   "outputs": [
    {
     "name": "stdout",
     "output_type": "stream",
     "text": [
      "[4.0, 7.8, 15.3, 28.0, 52.8, 98.9, 182.3, 373.3, 614.7, 1111.8, 2019.0]\n"
     ]
    }
   ],
   "source": [
    "model = create_network(n_dim=4)\n",
    "\n",
    "count_uniform = compute_curve(input_x, model, weight_uniform)\n",
    "print(count_uniform)"
   ]
  },
  {
   "cell_type": "code",
   "execution_count": 326,
   "metadata": {},
   "outputs": [
    {
     "name": "stdout",
     "output_type": "stream",
     "text": [
      "[4.0, 8.0, 14.5, 27.3, 51.5, 102.6, 166.8, 311.0, 590.5, 1114.7, 2124.1]\n"
     ]
    }
   ],
   "source": [
    "model = create_network(n_dim=4)\n",
    "\n",
    "count_normal = compute_curve(input_x, model, weight_gaussian)\n",
    "print(count_normal)"
   ]
  },
  {
   "cell_type": "code",
   "execution_count": 343,
   "metadata": {},
   "outputs": [
    {
     "name": "stdout",
     "output_type": "stream",
     "text": [
      "[4.0, 7.8, 15.2, 27.8, 52.2, 104.7, 192.1, 347.1, 641.6, 1071.2, 2110.4]\n"
     ]
    }
   ],
   "source": [
    "model = create_network(n_dim=4)\n",
    "\n",
    "count_xavier_uniform = compute_curve(input_x, model, weight_xavier_uniform)\n",
    "print(count_xavier_uniform)"
   ]
  },
  {
   "cell_type": "code",
   "execution_count": 344,
   "metadata": {},
   "outputs": [
    {
     "name": "stdout",
     "output_type": "stream",
     "text": [
      "[3.9, 7.5, 14.7, 29.8, 51.7, 100.0, 184.6, 349.4, 633.8, 1121.8, 2175.7]\n"
     ]
    }
   ],
   "source": [
    "model = create_network(n_dim=4)\n",
    "\n",
    "count_xavier_normal = compute_curve(input_x, model, weight_xavier_normal)\n",
    "print(count_xavier_normal)"
   ]
  },
  {
   "cell_type": "code",
   "execution_count": 347,
   "metadata": {},
   "outputs": [
    {
     "data": {
      "image/png": "[encoded data removed]",
      "text/plain": [
       "<Figure size 600x400 with 1 Axes>"
      ]
     },
     "metadata": {
      "needs_background": "light"
     },
     "output_type": "display_data"
    }
   ],
   "source": [
    "# Figure format\n",
    "ax = plt.subplot(111)\n",
    "\n",
    "# Hide the right and top spines\n",
    "ax.spines['right'].set_visible(False)\n",
    "ax.spines['top'].set_visible(False)\n",
    "\n",
    "# Only show ticks on the left and bottom spines\n",
    "ax.yaxis.set_ticks_position('left')\n",
    "ax.xaxis.set_ticks_position('bottom')\n",
    "\n",
    "plt.plot(range(2, 13), count_uniform, '.-', label='uniform')\n",
    "plt.plot(range(2, 13), count_normal, '.-', label='normal')\n",
    "plt.plot(range(2, 13), count_xavier_uniform, '.-', label='xavier uniform')\n",
    "plt.plot(range(2, 13), count_xavier_normal, '.-', label='xavier normal')\n",
    "\n",
    "plt.xlabel('Input Set Size')\n",
    "plt.ylabel('Number of Labeling')\n",
    "\n",
    "# plt.yscale('log')\n",
    "# plt.minorticks_off()\n",
    "# ax.set_yticks([2 ** n for n in x_axis])\n",
    "# ax.set_yticklabels([2 ** n for n in x_axis])\n",
    "\n",
    "ax.legend()\n",
    "plt.show()"
   ]
  },
  {
   "cell_type": "markdown",
   "metadata": {},
   "source": [
    "### Gaussian S.D."
   ]
  },
  {
   "cell_type": "code",
   "execution_count": 16,
   "metadata": {},
   "outputs": [
    {
     "name": "stdout",
     "output_type": "stream",
     "text": [
      "[1.0, 1.0, 1.0, 1.0, 1.0, 28.5, 1114.0, 1948.2, 2064.9, 2203.4]\n"
     ]
    }
   ],
   "source": [
    "model = create_network(4, n_mid=25, n_layer=10)\n",
    "sd_seq = [-3, -2, -1.6, -1.4, -1.3, -1.2, -1.1, -1, 0, 1, 2]\n",
    "\n",
    "count = []\n",
    "for idx in range(len(sd_seq)):    \n",
    "    def weight_gaussian(m):\n",
    "        classname = m.__class__.__name__\n",
    "        # for every Linear layer in a model..\n",
    "        if classname.find('Linear') != -1:\n",
    "            m.weight.data.normal_(0.0, 10 ** sd_seq[idx])\n",
    "            m.bias.data.fill_(0)\n",
    "            \n",
    "    count.append(vc_dimension(model, weight_gaussian, input_x, n_input=12))\n",
    "\n",
    "print(count)"
   ]
  },
  {
   "cell_type": "code",
   "execution_count": 28,
   "metadata": {},
   "outputs": [
    {
     "data": {
      "image/png": "[encoded data removed]",
      "text/plain": [
       "<Figure size 600x400 with 1 Axes>"
      ]
     },
     "metadata": {
      "needs_background": "light"
     },
     "output_type": "display_data"
    }
   ],
   "source": [
    "# Figure format\n",
    "ax = plt.subplot(111)\n",
    "\n",
    "# Hide the right and top spines\n",
    "ax.spines['right'].set_visible(False)\n",
    "ax.spines['top'].set_visible(False)\n",
    "\n",
    "# Only show ticks on the left and bottom spines\n",
    "ax.yaxis.set_ticks_position('left')\n",
    "ax.xaxis.set_ticks_position('bottom')\n",
    "\n",
    "plt.plot(sd_seq, count, '.-', label='normal')\n",
    "\n",
    "plt.xlabel('Variance')\n",
    "plt.ylabel('Number of Labeling')\n",
    "\n",
    "ax.set_xticks(np.arange(-3, 2.1, 1.0))\n",
    "ax.set_xticklabels([10 ** n for n in np.arange(-3, 2.1, 1.0)])\n",
    "\n",
    "ax.legend()\n",
    "plt.show()"
   ]
  }
 ],
 "metadata": {
  "colab": {
   "authorship_tag": "ABX9TyO9z0GTdCIzkkfpuYRrUmZH",
   "collapsed_sections": [],
   "name": "VC_Dimension.ipynb",
   "provenance": []
  },
  "kernelspec": {
   "display_name": "Python 3",
   "language": "python",
   "name": "python3"
  },
  "language_info": {
   "codemirror_mode": {
    "name": "ipython",
    "version": 3
   },
   "file_extension": ".py",
   "mimetype": "text/x-python",
   "name": "python",
   "nbconvert_exporter": "python",
   "pygments_lexer": "ipython3",
   "version": "3.8.5"
  }
 },
 "nbformat": 4,
 "nbformat_minor": 1
}
